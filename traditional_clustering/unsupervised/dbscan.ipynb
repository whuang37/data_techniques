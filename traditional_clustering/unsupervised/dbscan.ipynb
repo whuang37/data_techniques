{
 "cells": [
  {
   "cell_type": "markdown",
   "metadata": {},
   "source": [
    "# DBSCAN (Density Based Spatial Clustering of Applications with Noise)\n",
    "\n",
    "Commonly used clustering algorithm with key characteristics being automatic number of clusters and density based clustering. Highly adaptable to noise and outliers. Adaptable to clusters of more unique shapes. \n",
    "\n",
    "## Definitions \n",
    "- *Eps* - Maximum radius of the neighborhood around a point\n",
    "- *MinPts* - minimum number of points in the radius of Eps of a certain point. Larger datasets will most likely require a higher minPts. \n",
    "- *Core Point* - a point with n points greater than MinPts.\n",
    "- *Border Point* - a point with n points less than MinPts but contains a core point within Eps radius.\n",
    "- *Outlier* - neither a core point or border point.\n",
    "- *Directly Density Reachable* - A point P is density reachable to a point Q if dist(P, Q) <= Eps (euclidean distance between the points is less than epsilon) and Q is a core point. Not symmetrical so Q does not necessarily have to be density reachable to P.\n",
    "- *Density Reachable* - An object is density reachable if there is a chain of objects such that each is directly density reachable from the previous.\n",
    "- *Density Connectivity* - An object Q is density-connected to an object P if both are density reachable from a certain object called O.\n",
    "\n",
    "## Algorithm\n",
    "- Select a random point P\n",
    "- retrive all points density-reachable from P based on Eps and MinPts\n",
    "- If P is a core point, make it a cluster\n",
    "- If P is a border point, place it in the cluster of the core point within its radius\n",
    "- If P is neither a core or border point, mark it as a noise point.\n",
    "- Continue until all points are processed"
   ]
  },
  {
   "cell_type": "markdown",
   "metadata": {},
   "source": [
    "## Potential Implementation of DBSCAN"
   ]
  },
  {
   "cell_type": "code",
   "execution_count": 1,
   "metadata": {},
   "outputs": [],
   "source": [
    "import numpy as np"
   ]
  },
  {
   "cell_type": "code",
   "execution_count": 2,
   "metadata": {},
   "outputs": [],
   "source": [
    "# help function used for calculations\n",
    "def euclidean_distance(x1, x2):\n",
    "    return (sum(x1-x2)**2)**.5"
   ]
  },
  {
   "cell_type": "code",
   "execution_count": null,
   "metadata": {},
   "outputs": [],
   "source": [
    "class DBSCAN():\n",
    "    def __init__(self, eps=1, minpts=5):\n",
    "        self.eps = eps\n",
    "        self.minpts = minpts\n",
    "        \n",
    "    def _get_neighbors(self, i):\n",
    "        \"\"\"Returns a list of indexes of all the points within Eps of a point i\"\"\"\n",
    "        neigh = []\n",
    "        idxs = np.arange(len(self.x))\n",
    "        \n",
    "        # iterate through each point that is not I\n",
    "        for idx, pt in enumerate(self.x[idxs != i]):\n",
    "            d = euclidean_distance(self.x[i], pt)\n",
    "            if d < self.eps:\n",
    "                neigh.append(i)\n",
    "        return np.array(neigh)\n",
    "    \n",
    "    def _expand_cluster(self, i, neigh):\n",
    "        \"\"\"recursively expand the cluster until reach the border\"\"\"\n",
    "        # defining a base cluster with only one point\n",
    "        cluster = [i]\n",
    "        \n",
    "        # go through each neighbor\n",
    "        for n in neigh:\n",
    "            if not n in self.visited_samples:\n",
    "                self.visited_samples.append(n)\n",
    "                \n",
    "                # get the neighbors of the neighbor\n",
    "                self.neighbors[n] = self._get_neighbors(n)\n",
    "                \n",
    "                # check to see if neighbor is a core point\n",
    "                if len(self.neighbors[n] >= self.minpts):\n",
    "                    # expand the cluster recursive\n",
    "                    expanded = self._expand_cluster(n, self.neighbors[n])\n",
    "                    cluster = cluster + expanded_cluster\n",
    "                else:\n",
    "                    # if the neighbor isnt a core point then only said neighbor is in the cluster\n",
    "                    cluster.append(n)\n",
    "            return cluster\n",
    "        \n",
    "    def _get_cluster_labels(self):\n",
    "        \"\"\"return sample labels as index of the cluster they are in\"\"\"\n",
    "        # creates the label array with length of the data\n",
    "        labels = np.full(shape=self.x.shape[0], fill_value=len(self.clusters))\n",
    "        for cluster_i, cluster in enumerate(self.clusters):\n",
    "            for i in cluster:\n",
    "                labels[i] = cluster_i\n",
    "        \n",
    "        return labels\n",
    "    \n",
    "    def predict(self, x):\n",
    "        self.x = x\n",
    "        self.clusters = []\n",
    "        self.visted_samples = []\n",
    "        self.neighbors = {}\n",
    "        n_samples = np.shape(self.x)[0]\n",
    "        \n",
    "        # iterate through each sample and create clusters from them if they have more neighbors than minpts\n",
    "        \n",
    "        for i in range(n_samples):\n",
    "            if i in self.visited_samples:\n",
    "                continue\n",
    "            self.neighbors(i) = self._get_neighbors(i)\n",
    "            if len(self.neighbors[i]) >= self.minpts:\n",
    "                # if core point \n",
    "                self.visited_samples.append(i)\n",
    "                # expand the cluster from the curent point\n",
    "                new_cluster = self._expand_cluster(i, self.neighbors[i])\n",
    "                # add cluster to list of clusters\n",
    "                self.clusters.append(new_cluster)\n",
    "                \n",
    "        cluster_labels = self._get_cluster_labels()\n",
    "        return cluster_labels"
   ]
  },
  {
   "cell_type": "markdown",
   "metadata": {},
   "source": [
    "## SKLearn Implementation"
   ]
  },
  {
   "cell_type": "code",
   "execution_count": 6,
   "metadata": {},
   "outputs": [],
   "source": [
    "# iris dataset for testing\n",
    "\n",
    "from sklearn import datasets\n",
    "from sklearn.preprocessing import StandardScaler\n",
    "import pandas as pd\n",
    "\n",
    "iris = datasets.load_iris()\n",
    "x = iris.data\n",
    "y = iris.target\n",
    "example_dataset = StandardScaler().fit_transform(x)"
   ]
  },
  {
   "cell_type": "code",
   "execution_count": 9,
   "metadata": {},
   "outputs": [
    {
     "data": {
      "text/plain": [
       "DBSCAN()"
      ]
     },
     "execution_count": 9,
     "metadata": {},
     "output_type": "execute_result"
    }
   ],
   "source": [
    "from sklearn.cluster import DBSCAN\n",
    "\n",
    "df = x\n",
    "\n",
    "# defining basic parameters including eps, minpts, and metric type\n",
    "dbscan_kwargs = {\"eps\": 0.5, \"min_samples\": 5, \"metric\": \"euclidean\"}\n",
    "\n",
    "dbscan = DBSCAN(**dbscan_kwargs)\n",
    "dbscan.fit(df)"
   ]
  },
  {
   "cell_type": "markdown",
   "metadata": {},
   "source": [
    "### Finding Best eps and min_samples\n",
    "\n",
    "min_samples should be chosen based on your knowledge of the domain of the data. Generally min_samples >= number of dimensions in dataset + 1.\n",
    "\n",
    "the value of epsilon should define the maximum distance between two points. This can be done through a K Distance graph."
   ]
  },
  {
   "cell_type": "code",
   "execution_count": 11,
   "metadata": {},
   "outputs": [
    {
     "data": {
      "text/plain": [
       "[<matplotlib.lines.Line2D at 0x16b2c220850>]"
      ]
     },
     "execution_count": 11,
     "metadata": {},
     "output_type": "execute_result"
    },
    {
     "data": {
      "image/png": "[encoded data removed]",
      "text/plain": [
       "<Figure size 432x288 with 1 Axes>"
      ]
     },
     "metadata": {
      "needs_background": "light"
     },
     "output_type": "display_data"
    }
   ],
   "source": [
    "from sklearn.neighbors import NearestNeighbors\n",
    "import matplotlib.pyplot as plt\n",
    "# use KNearestNeighbors to generate values for a KDistance graph\n",
    "df = x\n",
    "knn = NearestNeighbors(n_neighbors=2)\n",
    "knn.fit(df)\n",
    "distances, indices = knn.kneighbors(x)\n",
    "\n",
    "# sort the distances\n",
    "distances = np.sort(distances, axis=0)\n",
    "distances = distances[:,1]\n",
    "plt.plot(distances)\n",
    "\n",
    "# optimal eps found at the point of greatest curvature"
   ]
  },
  {
   "cell_type": "code",
   "execution_count": 16,
   "metadata": {},
   "outputs": [
    {
     "name": "stdout",
     "output_type": "stream",
     "text": [
      "The knee is at x:137 and y:0.4123105625617661. Use 0.4123105625617661 as eps\n"
     ]
    },
    {
     "data": {
      "image/png": "[encoded data removed]",
      "text/plain": [
       "<Figure size 432x432 with 1 Axes>"
      ]
     },
     "metadata": {
      "needs_background": "light"
     },
     "output_type": "display_data"
    }
   ],
   "source": [
    "# code to automatically find the greatest curvature or knee\n",
    "\n",
    "from kneed import KneeLocator\n",
    "\n",
    "kneedle = KneeLocator(np.arange(len(distances)), distances, S=1.0, curve=\"convex\", direction=\"increasing\")\n",
    "\n",
    "print(f\"The knee is at x:{kneedle.knee} and y:{kneedle.knee_y}. Use {kneedle.knee_y} as eps\")\n",
    "kneedle.plot_knee()"
   ]
  },
  {
   "cell_type": "code",
   "execution_count": null,
   "metadata": {},
   "outputs": [],
   "source": []
  }
 ],
 "metadata": {
  "kernelspec": {
   "display_name": "Python 3",
   "language": "python",
   "name": "python3"
  },
  "language_info": {
   "codemirror_mode": {
    "name": "ipython",
    "version": 3
   },
   "file_extension": ".py",
   "mimetype": "text/x-python",
   "name": "python",
   "nbconvert_exporter": "python",
   "pygments_lexer": "ipython3",
   "version": "3.8.5"
  }
 },
 "nbformat": 4,
 "nbformat_minor": 4
}
